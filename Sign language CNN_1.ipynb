{
 "cells": [
  {
   "cell_type": "code",
   "execution_count": 1,
   "metadata": {},
   "outputs": [],
   "source": [
    "import pandas as pd\n",
    "import numpy as np\n",
    "\n",
    "import matplotlib.pyplot as plt \n",
    "\n",
    "import pickle\n",
    "\n",
    "%matplotlib inline"
   ]
  },
  {
   "cell_type": "code",
   "execution_count": 2,
   "metadata": {},
   "outputs": [],
   "source": [
    "np.random.seed(1) # seed\n",
    "df_train = pd.read_csv(\"./datasets/mnist_sign_language_dataset/sign_mnist_train/sign_mnist_train.csv\")\n",
    "df_test = pd.read_csv(\"./datasets/mnist_sign_language_dataset/sign_mnist_test/sign_mnist_test.csv\")"
   ]
  },
  {
   "cell_type": "code",
   "execution_count": 3,
   "metadata": {},
   "outputs": [],
   "source": [
    "mnist_sign_language_x_train = np.asarray(df_train.iloc[:, 1:]).reshape((df_train.shape[0], 28, 28))\n",
    "mnist_sign_language_y_train = np.asarray(df_train.iloc[:, 0]).reshape(df_train.shape[0])\n",
    "mnist_sign_language_x_test = np.asarray(df_test.iloc[:, 1:]).reshape((df_test.shape[0], 28, 28))\n",
    "mnist_sign_language_y_test = np.asarray(df_test.iloc[:, 0]).reshape(df_test.shape[0])"
   ]
  },
  {
   "cell_type": "code",
   "execution_count": 4,
   "metadata": {},
   "outputs": [],
   "source": [
    "mnist_sign_language_x_int = np.concatenate((mnist_sign_language_x_test, mnist_sign_language_x_train))\n",
    "mnist_sign_language_y = np.concatenate((mnist_sign_language_y_test, mnist_sign_language_y_train))"
   ]
  },
  {
   "cell_type": "code",
   "execution_count": 5,
   "metadata": {},
   "outputs": [
    {
     "name": "stdout",
     "output_type": "stream",
     "text": [
      "Mnist dataset shape of features:  (34627, 28, 28)\n",
      "Mnist dataset shape of labels:  (34627,)\n",
      "Maximal pixel value in the MNIST dataset:  255\n",
      "Minimal pixel value in the MNIST dataset:  0\n",
      "Maximal pixel value in the MNIST dataset after scaling:  1.0\n",
      "Minimal pixel value in the MNIST dataset after scaling:  0.0\n"
     ]
    }
   ],
   "source": [
    "print(\"Mnist dataset shape of features: \", mnist_sign_language_x_int.shape)\n",
    "print(\"Mnist dataset shape of labels: \", mnist_sign_language_y.shape)\n",
    "\n",
    "print(\"Maximal pixel value in the MNIST dataset: \", np.max(mnist_sign_language_x_int))\n",
    "print(\"Minimal pixel value in the MNIST dataset: \", np.min(mnist_sign_language_x_int))\n",
    "\n",
    "# Thus we need to reshape it to [0, 1], just like the digits dataset\n",
    "mnist_sign_language_x = np.zeros_like(mnist_sign_language_x_int, dtype = \"float\")\n",
    "for i in range(len(mnist_sign_language_x)):\n",
    "    mnist_sign_language_x[i] = np.true_divide(mnist_sign_language_x_int[i], 255.)\n",
    "print(\"Maximal pixel value in the MNIST dataset after scaling: \", np.max(mnist_sign_language_x))\n",
    "print(\"Minimal pixel value in the MNIST dataset after scaling: \", np.min(mnist_sign_language_x))"
   ]
  },
  {
   "cell_type": "code",
   "execution_count": 6,
   "metadata": {},
   "outputs": [
    {
     "data": {
      "text/plain": [
       "array([0.58431373, 0.58431373, 0.58823529, 0.58823529, 0.58823529,\n",
       "       0.59215686, 0.59215686, 0.58823529, 0.59215686, 0.59607843,\n",
       "       0.59607843, 0.59607843, 0.59607843, 0.59607843, 0.6       ,\n",
       "       0.6       , 0.59215686, 0.59607843, 0.59607843, 0.6       ,\n",
       "       0.59607843, 0.59607843, 0.59215686, 0.59215686, 0.58823529,\n",
       "       0.58823529, 0.58823529, 0.58431373])"
      ]
     },
     "execution_count": 6,
     "metadata": {},
     "output_type": "execute_result"
    }
   ],
   "source": [
    "mnist_sign_language_x[0,0,:]"
   ]
  },
  {
   "cell_type": "code",
   "execution_count": 7,
   "metadata": {},
   "outputs": [
    {
     "name": "stdout",
     "output_type": "stream",
     "text": [
      "{0: 'A', 1: 'B', 2: 'C', 3: 'D', 4: 'E', 5: 'F', 6: 'G', 7: 'H', 8: 'I', 10: 'K', 11: 'L', 12: 'M', 13: 'N', 14: 'O', 15: 'P', 16: 'Q', 17: 'R', 18: 'S', 19: 'T', 20: 'U', 21: 'V', 22: 'W', 23: 'X', 24: 'Y', 25: '0', 26: '1', 27: '2', 28: '3', 29: '4', 30: '5', 31: '6', 32: '7', 33: '8', 34: '9'}\n",
      "Number of classes:  34\n"
     ]
    },
    {
     "data": {
      "text/plain": [
       "'B'"
      ]
     },
     "execution_count": 7,
     "metadata": {},
     "output_type": "execute_result"
    }
   ],
   "source": [
    "'''\n",
    "Mapping from Labels to actual Gestures\n",
    "note that classes 9: \"J\" and 25: \"Z\" are missing, since they require a motion.\n",
    "'''\n",
    "Gesture_Labels = {\n",
    "  0: \"A\",\n",
    "  1: \"B\",\n",
    "  2: \"C\",\n",
    "  3: \"D\",\n",
    "  4: \"E\",\n",
    "  5: \"F\",\n",
    "  6: \"G\",\n",
    "  7: \"H\",\n",
    "  8: \"I\",\n",
    "  10: \"K\",\n",
    "  11: \"L\",\n",
    "  12: \"M\",\n",
    "  13: \"N\",\n",
    "  14: \"O\",\n",
    "  15: \"P\",\n",
    "  16: \"Q\",\n",
    "  17: \"R\",\n",
    "  18: \"S\",\n",
    "  19: \"T\",\n",
    "  20: \"U\",\n",
    "  21: \"V\",\n",
    "  22: \"W\",\n",
    "  23: \"X\",\n",
    "  24: \"Y\",\n",
    "  25: \"0\",\n",
    "  26: \"1\",\n",
    "  27: \"2\",\n",
    "  28: \"3\",\n",
    "  29: \"4\",\n",
    "  30: \"5\",\n",
    "  31: \"6\",\n",
    "  32: \"7\",\n",
    "  33: \"8\",\n",
    "  34: \"9\"\n",
    "}\n",
    "print(Gesture_Labels)\n",
    "print(\"Number of classes: \", len(Gesture_Labels))\n",
    "Gesture_Labels[1]"
   ]
  },
  {
   "cell_type": "code",
   "execution_count": 8,
   "metadata": {},
   "outputs": [
    {
     "data": {
      "image/png": "[encoded data removed]",
      "text/plain": [
       "<Figure size 720x720 with 25 Axes>"
      ]
     },
     "metadata": {
      "needs_background": "light"
     },
     "output_type": "display_data"
    }
   ],
   "source": [
    "fig, ax = plt.subplots(5,5, figsize = (10, 10))\n",
    "\n",
    "for i in range(5):\n",
    "    for j in range(5):\n",
    "        ax[i, j].imshow(mnist_sign_language_x[i*5+j,:,:], cmap = \"gray\")\n",
    "        ax[i, j].set_title(Gesture_Labels[mnist_sign_language_y[i*5+j]])\n",
    "        ax[i, j].axis(\"off\")\n",
    "        \n",
    "plt.show()"
   ]
  },
  {
   "cell_type": "code",
   "execution_count": 9,
   "metadata": {},
   "outputs": [],
   "source": [
    "digits_sign_language_x = np.load('./datasets/Sign_language_digits_dataset/X.npy')\n",
    "digits_sign_language_y = np.load('./datasets/Sign_language_digits_dataset/Y.npy')"
   ]
  },
  {
   "cell_type": "code",
   "execution_count": 10,
   "metadata": {},
   "outputs": [],
   "source": [
    "from scipy.interpolate import interp2d\n",
    "\n",
    "'''\n",
    "Resizing - Changing image size of the digits dataset from (64, 64) to (28, 28) to merge datasets.\n",
    "''' \n",
    "def assigning(x):\n",
    "    return np.linspace(0, 1, x)\n",
    "\n",
    "width, height = digits_sign_language_x[0,:,:].shape\n",
    "new_width, new_height = (28,28)\n",
    "\n",
    "digits_sign_language_x3 = np.zeros((digits_sign_language_x.shape[0], new_width, new_height))\n",
    "\n",
    "for i in range(digits_sign_language_x.shape[0]):\n",
    "    image = digits_sign_language_x[i, :, :]\n",
    "    interpolate_pixel = interp2d(assigning(width), assigning(height), image, kind=\"linear\")\n",
    "    new_image = interpolate_pixel(assigning(new_width), assigning(new_height))\n",
    "    \n",
    "    digits_sign_language_x3[i, :, :] = new_image"
   ]
  },
  {
   "cell_type": "code",
   "execution_count": 11,
   "metadata": {},
   "outputs": [
    {
     "data": {
      "image/png": "[encoded data removed]",
      "text/plain": [
       "<Figure size 432x288 with 1 Axes>"
      ]
     },
     "metadata": {
      "needs_background": "light"
     },
     "output_type": "display_data"
    },
    {
     "name": "stdout",
     "output_type": "stream",
     "text": [
      "[0. 0. 1. 0. 0. 0. 0. 0. 0. 0.]\n"
     ]
    }
   ],
   "source": [
    "plt.imshow(digits_sign_language_x3[500,:,:], cmap = \"gray\")\n",
    "plt.show()\n",
    "print(digits_sign_language_y[500])"
   ]
  },
  {
   "cell_type": "code",
   "execution_count": 12,
   "metadata": {},
   "outputs": [
    {
     "data": {
      "text/plain": [
       "'\\nDigit Dataset Labels\\nIndex - Number\\n0 - 9\\n1 - 0\\n2 - 7\\n3 - 6\\n4 - 1\\n5 - 8\\n6 - 4\\n7 - 3\\n8 - 2\\n9 - 5\\n'"
      ]
     },
     "execution_count": 12,
     "metadata": {},
     "output_type": "execute_result"
    }
   ],
   "source": [
    "'''\n",
    "Digit Dataset Labels\n",
    "Index - Number\n",
    "0 - 9\n",
    "1 - 0\n",
    "2 - 7\n",
    "3 - 6\n",
    "4 - 1\n",
    "5 - 8\n",
    "6 - 4\n",
    "7 - 3\n",
    "8 - 2\n",
    "9 - 5\n",
    "'''"
   ]
  },
  {
   "cell_type": "code",
   "execution_count": 13,
   "metadata": {},
   "outputs": [
    {
     "name": "stdout",
     "output_type": "stream",
     "text": [
      "digits_sign_language_y2 shape:  (2062,)\n"
     ]
    }
   ],
   "source": [
    "igits_sign_language_x2 = digits_sign_language_x\n",
    "digits_sign_language_y2 = np.zeros(digits_sign_language_y.shape[0], dtype = \"int\")\n",
    "print(\"digits_sign_language_y2 shape: \", digits_sign_language_y2.shape)"
   ]
  },
  {
   "cell_type": "code",
   "execution_count": 14,
   "metadata": {},
   "outputs": [],
   "source": [
    "'''\n",
    " changing label y from one hot encoding to integers\n",
    "'''\n",
    "for i in range(digits_sign_language_y.shape[0]):\n",
    "    for j in range(digits_sign_language_y.shape[1]):\n",
    "        if digits_sign_language_y[i, j] == 1.:\n",
    "            if j == 0:\n",
    "                digits_sign_language_y2[i] = 34\n",
    "            if j == 1:\n",
    "                digits_sign_language_y2[i] = 25\n",
    "            if j == 2:\n",
    "                digits_sign_language_y2[i] = 32\n",
    "            if j == 3:\n",
    "                digits_sign_language_y2[i] = 31\n",
    "            if j == 4:\n",
    "                digits_sign_language_y2[i] = 26\n",
    "            if j == 5:\n",
    "                digits_sign_language_y2[i] = 33\n",
    "            if j == 6:\n",
    "                digits_sign_language_y2[i] = 29\n",
    "            if j == 7:\n",
    "                digits_sign_language_y2[i] = 28\n",
    "            if j == 8:\n",
    "                digits_sign_language_y2[i] = 27\n",
    "            if j == 9:\n",
    "                digits_sign_language_y2[i] = 30\n",
    "            "
   ]
  },
  {
   "cell_type": "code",
   "execution_count": 15,
   "metadata": {},
   "outputs": [
    {
     "data": {
      "text/plain": [
       "(36689, 28, 28)"
      ]
     },
     "execution_count": 15,
     "metadata": {},
     "output_type": "execute_result"
    }
   ],
   "source": [
    "'''\n",
    "merging dataset x\n",
    "'''\n",
    "our_dataset_x = np.concatenate((digits_sign_language_x3, mnist_sign_language_x))\n",
    "our_dataset_x.shape"
   ]
  },
  {
   "cell_type": "code",
   "execution_count": 16,
   "metadata": {},
   "outputs": [
    {
     "name": "stdout",
     "output_type": "stream",
     "text": [
      "(36689,)\n",
      "(36689,)\n"
     ]
    }
   ],
   "source": [
    "'''\n",
    "merging dataset y\n",
    "'''\n",
    "our_dataset_y = np.concatenate((digits_sign_language_y2, mnist_sign_language_y))\n",
    "print(our_dataset_y.shape)\n",
    "our_dataset_y = np.concatenate((digits_sign_language_y2, mnist_sign_language_y))\n",
    "print(our_dataset_y.shape)"
   ]
  },
  {
   "cell_type": "code",
   "execution_count": 17,
   "metadata": {},
   "outputs": [
    {
     "data": {
      "image/png": "[encoded data removed]",
      "text/plain": [
       "<Figure size 432x288 with 1 Axes>"
      ]
     },
     "metadata": {
      "needs_background": "light"
     },
     "output_type": "display_data"
    },
    {
     "name": "stdout",
     "output_type": "stream",
     "text": [
      "34\n"
     ]
    }
   ],
   "source": [
    "plt.imshow(our_dataset_x[2,:,:], cmap = \"gray\")\n",
    "plt.show()\n",
    "print(our_dataset_y[2])"
   ]
  },
  {
   "cell_type": "code",
   "execution_count": 18,
   "metadata": {},
   "outputs": [],
   "source": [
    "'''\n",
    " shuffling the whole dataset\n",
    "'''\n",
    "rng_state = np.random.get_state()\n",
    "np.random.shuffle(our_dataset_x)\n",
    "np.random.set_state(rng_state)\n",
    "np.random.shuffle(our_dataset_y)"
   ]
  },
  {
   "cell_type": "code",
   "execution_count": 19,
   "metadata": {},
   "outputs": [
    {
     "data": {
      "image/png": "[encoded data removed]",
      "text/plain": [
       "<Figure size 1080x720 with 25 Axes>"
      ]
     },
     "metadata": {
      "needs_background": "light"
     },
     "output_type": "display_data"
    }
   ],
   "source": [
    "fig, ax = plt.subplots(5,5, figsize = (15, 10))\n",
    "margin = 1840\n",
    "for i in range(5):\n",
    "    for j in range(5):\n",
    "        ax[i, j].imshow(our_dataset_x[margin + i*5+j,:,:], cmap = \"gray\")\n",
    "        ax[i, j].set_title(Gesture_Labels[our_dataset_y[margin + i*5+j]])\n",
    "        ax[i, j].axis(\"off\")\n",
    "        \n",
    "plt.show()\n"
   ]
  },
  {
   "cell_type": "code",
   "execution_count": 20,
   "metadata": {},
   "outputs": [],
   "source": [
    "our_dataset_train_x = our_dataset_x[:30000]\n",
    "our_dataset_test_x = our_dataset_x[30000:36600]\n",
    "our_dataset_train_y = our_dataset_y[:30000]\n",
    "our_dataset_test_y = our_dataset_y[30000:36600]"
   ]
  },
  {
   "cell_type": "code",
   "execution_count": 21,
   "metadata": {},
   "outputs": [],
   "source": [
    "import torch\n",
    "import torch.nn as nn\n",
    "import torch.optim as optim\n",
    "from torchvision import transforms\n",
    "from torch.utils.data import Dataset, DataLoader\n",
    "\n",
    "from tqdm import tqdm"
   ]
  },
  {
   "cell_type": "code",
   "execution_count": 22,
   "metadata": {},
   "outputs": [
    {
     "name": "stdout",
     "output_type": "stream",
     "text": [
      "X train:  torch.Size([30000, 28, 28])\n",
      "<class 'torch.Tensor'>\n",
      "Y train:  torch.Size([30000])\n",
      "<class 'torch.Tensor'>\n",
      "X test:  torch.Size([6600, 28, 28])\n",
      "<class 'torch.Tensor'>\n",
      "Y test:  torch.Size([6600])\n",
      "<class 'torch.Tensor'>\n"
     ]
    }
   ],
   "source": [
    "train_X = torch.from_numpy(our_dataset_train_x)\n",
    "train_Y = torch.from_numpy(our_dataset_train_y)\n",
    "test_X = torch.from_numpy(our_dataset_test_x)\n",
    "test_Y = torch.from_numpy(our_dataset_test_y)\n",
    "\n",
    "print(\"X train: \", train_X.shape)\n",
    "print(type(train_X))\n",
    "print(\"Y train: \", train_Y.shape)\n",
    "print(type(train_Y))\n",
    "print(\"X test: \", test_X.shape)\n",
    "print(type(test_X))\n",
    "print(\"Y test: \", test_Y.shape)\n",
    "print(type(test_Y))"
   ]
  },
  {
   "cell_type": "code",
   "execution_count": 23,
   "metadata": {},
   "outputs": [
    {
     "name": "stdout",
     "output_type": "stream",
     "text": [
      "train_X1 shape:  torch.Size([30000, 28, 28])\n",
      "test_X1 shape:  torch.Size([6600, 28, 28])\n",
      "torch.Size([30000])\n",
      "30000\n",
      "torch.Size([28, 28]) tensor(29)\n"
     ]
    }
   ],
   "source": [
    "'''\n",
    "New Data Version for New Model Version\n",
    "'''\n",
    "train_X1 = train_X\n",
    "print(\"train_X1 shape: \", train_X1.shape)\n",
    "test_X1 = test_X\n",
    "print(\"test_X1 shape: \", test_X1.shape)\n",
    "\n",
    "print(train_Y.shape)\n",
    "print(len(train_Y))\n",
    "im = train_X1[0]\n",
    "print(im.shape, train_Y[0])"
   ]
  },
  {
   "cell_type": "code",
   "execution_count": 24,
   "metadata": {},
   "outputs": [],
   "source": [
    "def batch_accuracy(prediction, label):\n",
    "    return 100 * torch.mean((prediction == label).float())\n",
    "\n",
    "def class_label(prediction):\n",
    "    return torch.argmax(nn.functional.softmax(prediction, dim=0), dim=1)\n"
   ]
  },
  {
   "cell_type": "code",
   "execution_count": 25,
   "metadata": {},
   "outputs": [],
   "source": [
    "device = torch.device(\"cuda\" if torch.cuda.is_available() else \"cpu\")"
   ]
  },
  {
   "cell_type": "code",
   "execution_count": 26,
   "metadata": {},
   "outputs": [],
   "source": [
    "'''\n",
    "Meta Parameters\n",
    "'''\n",
    "number_epochs = 50\n",
    "batch_size = 200\n",
    "learning_rate = 1e-3"
   ]
  },
  {
   "cell_type": "code",
   "execution_count": 27,
   "metadata": {},
   "outputs": [],
   "source": [
    "'''\n",
    "New Model Version\n",
    "'''\n",
    "class Net(nn.Module):\n",
    "    \n",
    "    def __init__(self):\n",
    "        super(Net, self).__init__()\n",
    "        \n",
    "        # choose padding 2 to keep 28x28 size\n",
    "        self.co1 = nn.Conv2d(in_channels = 1, out_channels = 32, kernel_size = 3, stride = 1, padding = 1)\n",
    "        self.pd1 = nn.ReplicationPad2d(2)\n",
    "        self.mp1 = nn.MaxPool2d(kernel_size = 2, stride = 2)\n",
    "        self.bn1 = nn.BatchNorm2d(num_features=32)\n",
    "        self.co2 = nn.Conv2d(in_channels = 32, out_channels = 64, kernel_size = 3, stride = 1, padding = 1)\n",
    "        self.mp2 = nn.MaxPool2d(kernel_size = 2, stride = 2)\n",
    "        self.bn2 = nn.BatchNorm2d(num_features=64)\n",
    "        self.co3 = nn.Conv2d(in_channels = 64, out_channels = 256, kernel_size = 3, stride = 1, padding = 1)\n",
    "        self.mp3 = nn.MaxPool2d(kernel_size = 2, stride = 2)\n",
    "        self.bn3 = nn.BatchNorm2d(num_features=256)\n",
    "        self.co4 = nn.Conv2d(in_channels = 256, out_channels = 1024, kernel_size = 3, stride = 1, padding = 1)\n",
    "        self.mp4 = nn.MaxPool2d(kernel_size = 2, stride = 2)\n",
    "        self.bn4 = nn.BatchNorm2d(num_features=1024)\n",
    "        self.fc1 = nn.Linear(in_features = 4096, out_features = 35)\n",
    "        self.relu = nn.ReLU()\n",
    "        \n",
    "    def forward(self, x):\n",
    "        x = x.view(batch_size, 1, 28, 28)\n",
    "        out = self.co1(x)\n",
    "        out = self.pd1(out)\n",
    "        out = self.mp1(out)\n",
    "        out = self.bn1(out)\n",
    "        out = self.relu(out)\n",
    "        out = self.co2(out)\n",
    "        out = self.mp2(out)\n",
    "        out = self.bn2(out)\n",
    "        out = self.relu(out)\n",
    "        out = self.co3(out)\n",
    "        out = self.mp3(out)\n",
    "        out = self.bn3(out)\n",
    "        out = self.relu(out)\n",
    "        out = self.co4(out)\n",
    "        out = self.mp4(out)\n",
    "        out = self.bn4(out)\n",
    "        out = self.relu(out)\n",
    "        out = out.view(batch_size, -1)\n",
    "        out = self.fc1(out)\n",
    "        \n",
    "        return out"
   ]
  },
  {
   "cell_type": "code",
   "execution_count": 28,
   "metadata": {},
   "outputs": [],
   "source": [
    "def train(use_gpu = False):\n",
    "    \n",
    "    P = Net()\n",
    "    P.train()\n",
    "    \n",
    "    print('Loading Data...')\n",
    "    print('Done Loading Data!')\n",
    "\n",
    "    Data_X = DataLoader(train_X1, batch_size = batch_size)\n",
    "    Data_Y = DataLoader(train_Y, batch_size = batch_size)\n",
    "    testData_X = DataLoader(test_X1, batch_size = batch_size)\n",
    "    testData_Y = DataLoader(test_Y, batch_size = batch_size)\n",
    "\n",
    "\n",
    "    optimizer =  torch.optim.SGD(P.parameters(), lr= learning_rate)\n",
    "\n",
    "    criterion =  nn.CrossEntropyLoss()\n",
    "    \n",
    "    print('Starting Training')\n",
    "    for epoch in range(number_epochs):\n",
    "        print('Epoch #{}'.format(epoch))\n",
    "        for step, [example, label] in enumerate(zip(Data_X,Data_Y)): \n",
    "\n",
    "            optimizer.zero_grad()\n",
    "            \n",
    "            prediction = P(example.float())\n",
    "            \n",
    "            loss = criterion(prediction, label)\n",
    "            loss.backward()\n",
    "            optimizer.step()            \n",
    "\n",
    "        # Now validate on the whole test set\n",
    "        accuracies = []\n",
    "        for idx, [test_ex, test_l] in enumerate(zip(testData_X,testData_Y)):\n",
    "            prediction = P(test_ex.float())\n",
    "            accuracies += [batch_accuracy(class_label(prediction), test_l).numpy()]\n",
    "\n",
    "            # Using your batch_accuracy function, also print the mean accuracy\n",
    "            # over the whole test split of the data.\n",
    "\n",
    "        print('Validation Accuracy: {}%'.format(np.mean(accuracies)))\n",
    "      \n",
    "    print('Finished Training')\n",
    "    return P"
   ]
  },
  {
   "cell_type": "code",
   "execution_count": 29,
   "metadata": {},
   "outputs": [
    {
     "name": "stdout",
     "output_type": "stream",
     "text": [
      "Loading Data...\n",
      "Done Loading Data!\n",
      "Starting Training\n",
      "Epoch #0\n",
      "Validation Accuracy: 37.48484802246094%\n",
      "Epoch #1\n",
      "Validation Accuracy: 50.16666793823242%\n",
      "Epoch #2\n",
      "Validation Accuracy: 58.42424392700195%\n",
      "Epoch #3\n",
      "Validation Accuracy: 64.1212158203125%\n",
      "Epoch #4\n",
      "Validation Accuracy: 68.68181610107422%\n",
      "Epoch #5\n",
      "Validation Accuracy: 72.09091186523438%\n",
      "Epoch #6\n",
      "Validation Accuracy: 75.2727279663086%\n",
      "Epoch #7\n",
      "Validation Accuracy: 77.93939208984375%\n",
      "Epoch #8\n",
      "Validation Accuracy: 79.48484802246094%\n",
      "Epoch #9\n",
      "Validation Accuracy: 81.1515121459961%\n",
      "Epoch #10\n",
      "Validation Accuracy: 82.6515121459961%\n",
      "Epoch #11\n",
      "Validation Accuracy: 83.8787841796875%\n",
      "Epoch #12\n",
      "Validation Accuracy: 84.60606384277344%\n",
      "Epoch #13\n",
      "Validation Accuracy: 85.31818389892578%\n",
      "Epoch #14\n",
      "Validation Accuracy: 86.03030395507812%\n",
      "Epoch #15\n",
      "Validation Accuracy: 86.56060791015625%\n",
      "Epoch #16\n",
      "Validation Accuracy: 87.06060791015625%\n",
      "Epoch #17\n",
      "Validation Accuracy: 87.5%\n",
      "Epoch #18\n",
      "Validation Accuracy: 87.93939208984375%\n",
      "Epoch #19\n",
      "Validation Accuracy: 88.31818389892578%\n",
      "Epoch #20\n",
      "Validation Accuracy: 88.57575988769531%\n",
      "Epoch #21\n",
      "Validation Accuracy: 88.78787994384766%\n",
      "Epoch #22\n",
      "Validation Accuracy: 88.98484802246094%\n",
      "Epoch #23\n",
      "Validation Accuracy: 89.13636016845703%\n",
      "Epoch #24\n",
      "Validation Accuracy: 89.25757598876953%\n",
      "Epoch #25\n",
      "Validation Accuracy: 89.36363983154297%\n",
      "Epoch #26\n",
      "Validation Accuracy: 89.40908813476562%\n",
      "Epoch #27\n",
      "Validation Accuracy: 89.46969604492188%\n",
      "Epoch #28\n",
      "Validation Accuracy: 89.71212005615234%\n",
      "Epoch #29\n",
      "Validation Accuracy: 89.7727279663086%\n",
      "Epoch #30\n",
      "Validation Accuracy: 89.80303192138672%\n",
      "Epoch #31\n",
      "Validation Accuracy: 89.96969604492188%\n",
      "Epoch #32\n",
      "Validation Accuracy: 90.01515197753906%\n",
      "Epoch #33\n",
      "Validation Accuracy: 90.06060791015625%\n",
      "Epoch #34\n",
      "Validation Accuracy: 90.13636016845703%\n",
      "Epoch #35\n",
      "Validation Accuracy: 90.1515121459961%\n",
      "Epoch #36\n",
      "Validation Accuracy: 90.13636016845703%\n",
      "Epoch #37\n",
      "Validation Accuracy: 90.18181610107422%\n",
      "Epoch #38\n",
      "Validation Accuracy: 90.21212005615234%\n",
      "Epoch #39\n",
      "Validation Accuracy: 90.33333587646484%\n",
      "Epoch #40\n",
      "Validation Accuracy: 90.39393615722656%\n",
      "Epoch #41\n",
      "Validation Accuracy: 90.39393615722656%\n",
      "Epoch #42\n",
      "Validation Accuracy: 90.45454406738281%\n",
      "Epoch #43\n",
      "Validation Accuracy: 90.5%\n",
      "Epoch #44\n",
      "Validation Accuracy: 90.51515197753906%\n",
      "Epoch #45\n",
      "Validation Accuracy: 90.57575988769531%\n",
      "Epoch #46\n",
      "Validation Accuracy: 90.51515197753906%\n",
      "Epoch #47\n",
      "Validation Accuracy: 90.54545593261719%\n",
      "Epoch #48\n",
      "Validation Accuracy: 90.54545593261719%\n",
      "Epoch #49\n",
      "Validation Accuracy: 90.57575988769531%\n",
      "Finished Training\n"
     ]
    }
   ],
   "source": [
    "P = train()"
   ]
  },
  {
   "cell_type": "code",
   "execution_count": 31,
   "metadata": {},
   "outputs": [],
   "source": [
    "PATH = './sign_language.pth'\n",
    "torch.save(Net(), PATH)"
   ]
  },
  {
   "cell_type": "code",
   "execution_count": 32,
   "metadata": {},
   "outputs": [
    {
     "data": {
      "text/plain": [
       "Net(\n",
       "  (co1): Conv2d(1, 32, kernel_size=(3, 3), stride=(1, 1), padding=(1, 1))\n",
       "  (pd1): ReplicationPad2d((2, 2, 2, 2))\n",
       "  (mp1): MaxPool2d(kernel_size=2, stride=2, padding=0, dilation=1, ceil_mode=False)\n",
       "  (bn1): BatchNorm2d(32, eps=1e-05, momentum=0.1, affine=True, track_running_stats=True)\n",
       "  (co2): Conv2d(32, 64, kernel_size=(3, 3), stride=(1, 1), padding=(1, 1))\n",
       "  (mp2): MaxPool2d(kernel_size=2, stride=2, padding=0, dilation=1, ceil_mode=False)\n",
       "  (bn2): BatchNorm2d(64, eps=1e-05, momentum=0.1, affine=True, track_running_stats=True)\n",
       "  (co3): Conv2d(64, 256, kernel_size=(3, 3), stride=(1, 1), padding=(1, 1))\n",
       "  (mp3): MaxPool2d(kernel_size=2, stride=2, padding=0, dilation=1, ceil_mode=False)\n",
       "  (bn3): BatchNorm2d(256, eps=1e-05, momentum=0.1, affine=True, track_running_stats=True)\n",
       "  (co4): Conv2d(256, 1024, kernel_size=(3, 3), stride=(1, 1), padding=(1, 1))\n",
       "  (mp4): MaxPool2d(kernel_size=2, stride=2, padding=0, dilation=1, ceil_mode=False)\n",
       "  (bn4): BatchNorm2d(1024, eps=1e-05, momentum=0.1, affine=True, track_running_stats=True)\n",
       "  (fc1): Linear(in_features=4096, out_features=35, bias=True)\n",
       "  (relu): ReLU()\n",
       ")"
      ]
     },
     "execution_count": 32,
     "metadata": {},
     "output_type": "execute_result"
    }
   ],
   "source": [
    "model = torch.load(PATH)\n",
    "model.eval()"
   ]
  }
 ],
 "metadata": {
  "kernelspec": {
   "display_name": "Python 3",
   "language": "python",
   "name": "python3"
  },
  "language_info": {
   "codemirror_mode": {
    "name": "ipython",
    "version": 3
   },
   "file_extension": ".py",
   "mimetype": "text/x-python",
   "name": "python",
   "nbconvert_exporter": "python",
   "pygments_lexer": "ipython3",
   "version": "3.7.6"
  }
 },
 "nbformat": 4,
 "nbformat_minor": 4
}
